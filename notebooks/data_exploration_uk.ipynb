{
  "cells": [
    {
      "cell_type": "markdown",
      "metadata": {
        "colab_type": "text",
        "id": "view-in-github"
      },
      "source": [
        "<a href=\"https://colab.research.google.com/github/lenare/mlses-wind-power-forecast/blob/main/prototyping.ipynb\" target=\"_parent\"><img src=\"https://colab.research.google.com/assets/colab-badge.svg\" alt=\"Open In Colab\"/></a>"
      ]
    },
    {
      "attachments": {},
      "cell_type": "markdown",
      "metadata": {},
      "source": [
        "# Data Exploration UK\n",
        "For having a first look at data and experimenting with solutions."
      ]
    },
    {
      "cell_type": "code",
      "execution_count": null,
      "metadata": {
        "id": "54PIgE_zl1Ci"
      },
      "outputs": [],
      "source": [
        "# Import dependencies\n",
        "import os\n",
        "\n",
        "import xarray as xr\n",
        "import numpy as np\n",
        "import matplotlib.pyplot as plt\n",
        "import pandas as pd\n",
        "\n",
        "pd.set_option('display.max_columns', None)"
      ]
    },
    {
      "attachments": {},
      "cell_type": "markdown",
      "metadata": {},
      "source": [
        "UK data"
      ]
    },
    {
      "cell_type": "code",
      "execution_count": null,
      "metadata": {},
      "outputs": [],
      "source": [
        "uk_dir = \"../data/raw/uk/\"\n",
        "uk_2016_dir = f\"{uk_dir}Kelmarsh_SCADA_2016_3082/\"\n",
        "uk_2017_dir = f\"{uk_dir}Kelmarsh_SCADA_2017_3083/\"\n",
        "uk_2018_dir = f\"{uk_dir}Kelmarsh_SCADA_2018_3084/\"\n",
        "uk_2019_dir = f\"{uk_dir}Kelmarsh_SCADA_2019_3085/\"\n",
        "uk_2020_dir = f\"{uk_dir}Kelmarsh_SCADA_2020_3086/\"\n",
        "uk_2021_dir = f\"{uk_dir}Kelmarsh_SCADA_2021_3087/\""
      ]
    },
    {
      "cell_type": "code",
      "execution_count": null,
      "metadata": {},
      "outputs": [],
      "source": [
        "kelmarsh_1_2016 = f\"{uk_2016_dir}Turbine_Data_Kelmarsh_1_2016-01-03_-_2017-01-01_228.csv\"\n",
        "kelmarsh_1_2017 = f\"{uk_2017_dir}Turbine_Data_Kelmarsh_1_2017-01-01_-_2018-01-01_228.csv\"\n",
        "kelmarsh_1_2018 = f\"{uk_2018_dir}Turbine_Data_Kelmarsh_1_2018-01-01_-_2019-01-01_228.csv\"\n",
        "kelmarsh_1_2019 = f\"{uk_2019_dir}Turbine_Data_Kelmarsh_1_2019-01-01_-_2020-01-01_228.csv\"\n",
        "kelmarsh_1_2020 = f\"{uk_2020_dir}Turbine_Data_Kelmarsh_1_2020-01-01_-_2021-01-01_228.csv\"\n",
        "kelmarsh_1_2021 = f\"{uk_2021_dir}Turbine_Data_Kelmarsh_1_2021-01-01_-_2021-07-01_228.csv\"\n",
        "\n",
        "kelmarsh_1_2016_df = pd.read_csv(kelmarsh_1_2016, skiprows=9)\n",
        "kelmarsh_1_2017_df = pd.read_csv(kelmarsh_1_2017, skiprows=9)\n",
        "kelmarsh_1_2018_df = pd.read_csv(kelmarsh_1_2018, skiprows=9)\n",
        "kelmarsh_1_2019_df = pd.read_csv(kelmarsh_1_2019, skiprows=9)\n",
        "kelmarsh_1_2020_df = pd.read_csv(kelmarsh_1_2020, skiprows=9)\n",
        "kelmarsh_1_2021_df = pd.read_csv(kelmarsh_1_2021, skiprows=9)\n",
        "full_kelmarsh_df = pd.concat([kelmarsh_1_2016_df, kelmarsh_1_2017_df, kelmarsh_1_2018_df,\n",
        "                             kelmarsh_1_2019_df, kelmarsh_1_2020_df, kelmarsh_1_2021_df])\n",
        "full_kelmarsh_df.describe()"
      ]
    },
    {
      "attachments": {},
      "cell_type": "markdown",
      "metadata": {},
      "source": [
        "# Notes on data\n",
        "What is vane?\n",
        "\n",
        "How is lost production correlated with other variables?\n",
        "\n",
        "What is Potential power default PC?\n",
        "\n",
        "What is Cascading potential power?\n",
        "- scenario where the failure or underperformance of one wind turbine has a cascading effect on the overall power generation capacity of a wind farm. For example, if one turbine experiences a major fault or breakdown, it could lead to decreased power generation and potentially impact the performance or operation of other turbines in the wind farm\n",
        "\n",
        "What is Power factor?\n",
        "- Power factor, often represented by the symbol \"cosφ\" or \"PF,\" is a measure of the efficiency of electrical power utilization in an AC (alternating current) circuit. It describes the ratio of real power (active power) to apparent power in the circuit\n",
        "Should gearbox speed be the same as rotor rpm/speed?\n"
      ]
    },
    {
      "cell_type": "code",
      "execution_count": null,
      "metadata": {},
      "outputs": [],
      "source": [
        "full_kelmarsh_df.head()"
      ]
    },
    {
      "cell_type": "code",
      "execution_count": null,
      "metadata": {},
      "outputs": [],
      "source": [
        "full_kelmarsh_df.isna().sum()"
      ]
    },
    {
      "cell_type": "code",
      "execution_count": null,
      "metadata": {},
      "outputs": [],
      "source": [
        "columns = full_kelmarsh_df.columns\n",
        "columns"
      ]
    },
    {
      "cell_type": "code",
      "execution_count": null,
      "metadata": {},
      "outputs": [],
      "source": [
        "selected_columns = {\n",
        "        \"# Date and time\": \"timestamp\",\n",
        "        \"Wind speed (m/s)\": \"wind_speed\",\n",
        "        \"Wind direction (°)\": \"wind_direction\",\n",
        "        # \"Nacelle position (°)\": \"nacelle_position\",\n",
        "        \"Ambient temperature (converter) (°C)\": \"ambient_temperature\",\n",
        "        \"Rotor speed (RPM)\": \"rotor_speed\",\n",
        "        \"Power (kW)\": \"power\",\n",
        "    }\n",
        "list(selected_columns.keys())"
      ]
    },
    {
      "cell_type": "code",
      "execution_count": null,
      "metadata": {},
      "outputs": [],
      "source": [
        "df = full_kelmarsh_df[list(selected_columns.keys())]\n",
        "df = df.rename(columns=selected_columns).set_index(\"timestamp\")\n",
        "df.index = pd.to_datetime(df.index)\n",
        "df"
      ]
    },
    {
      "cell_type": "code",
      "execution_count": null,
      "metadata": {},
      "outputs": [],
      "source": [
        "df[\"2020-02-1\":\"2020-02-11\"].plot(grid=True, figsize=(15, 5))"
      ]
    },
    {
      "cell_type": "code",
      "execution_count": null,
      "metadata": {},
      "outputs": [],
      "source": [
        "# diff_7 = df[[\"wind_speed\", \"speed2\"]].diff(7)[\"2019-03\":\"2019-05\"]"
      ]
    },
    {
      "cell_type": "code",
      "execution_count": null,
      "metadata": {},
      "outputs": [],
      "source": [
        "period = slice(\"2016\", \"2021\")\n",
        "df_monthly = df.resample('M').mean()  # compute the mean for each month\n",
        "rolling_average_12_months = df_monthly[period].rolling(window=12).mean()\n",
        "\n",
        "fig, ax = plt.subplots(figsize=(8, 4))\n",
        "df_monthly[period].plot(ax=ax, marker=\".\")\n",
        "rolling_average_12_months.plot(ax=ax, grid=True, legend=False)\n",
        "# save_fig(\"long_term_ridership_plot\")  # extra code – saves the figure for the book\n",
        "plt.show()"
      ]
    },
    {
      "cell_type": "code",
      "execution_count": null,
      "metadata": {},
      "outputs": [],
      "source": []
    }
  ],
  "metadata": {
    "colab": {
      "authorship_tag": "ABX9TyMlMYAgZ3HAg/FsdiT92lht",
      "include_colab_link": true,
      "provenance": []
    },
    "kernelspec": {
      "display_name": "Python 3",
      "name": "python3"
    },
    "language_info": {
      "codemirror_mode": {
        "name": "ipython",
        "version": 3
      },
      "file_extension": ".py",
      "mimetype": "text/x-python",
      "name": "python",
      "nbconvert_exporter": "python",
      "pygments_lexer": "ipython3",
      "version": "3.11.2"
    }
  },
  "nbformat": 4,
  "nbformat_minor": 0
}
